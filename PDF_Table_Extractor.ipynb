{
 "cells": [
  {
   "cell_type": "markdown",
   "id": "4ab8604d",
   "metadata": {},
   "source": [
    "# Building Table Extractor using Python"
   ]
  },
  {
   "cell_type": "code",
   "execution_count": 6,
   "id": "3c0f7e20",
   "metadata": {},
   "outputs": [],
   "source": [
    "# installing camelot-py should be done from terminal only the next line of code won't work here\n",
    "#pip install camelot-py"
   ]
  },
  {
   "cell_type": "code",
   "execution_count": 2,
   "id": "fb3b891d",
   "metadata": {},
   "outputs": [
    {
     "ename": "SyntaxError",
     "evalue": "invalid syntax (<ipython-input-2-bbb1609b2d9d>, line 2)",
     "output_type": "error",
     "traceback": [
      "\u001b[1;36m  File \u001b[1;32m\"<ipython-input-2-bbb1609b2d9d>\"\u001b[1;36m, line \u001b[1;32m2\u001b[0m\n\u001b[1;33m    import camelot-py\u001b[0m\n\u001b[1;37m                  ^\u001b[0m\n\u001b[1;31mSyntaxError\u001b[0m\u001b[1;31m:\u001b[0m invalid syntax\n"
     ]
    }
   ],
   "source": [
    "# importing packages\n",
    "import camelo\n",
    "import seaborn as sns"
   ]
  },
  {
   "cell_type": "code",
   "execution_count": null,
   "id": "180a0997",
   "metadata": {},
   "outputs": [],
   "source": []
  }
 ],
 "metadata": {
  "kernelspec": {
   "display_name": "Python 3",
   "language": "python",
   "name": "python3"
  },
  "language_info": {
   "codemirror_mode": {
    "name": "ipython",
    "version": 3
   },
   "file_extension": ".py",
   "mimetype": "text/x-python",
   "name": "python",
   "nbconvert_exporter": "python",
   "pygments_lexer": "ipython3",
   "version": "3.8.10"
  }
 },
 "nbformat": 4,
 "nbformat_minor": 5
}
