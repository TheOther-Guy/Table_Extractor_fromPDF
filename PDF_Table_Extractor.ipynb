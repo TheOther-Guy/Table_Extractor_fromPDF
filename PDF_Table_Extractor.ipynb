{
 "cells": [
  {
   "cell_type": "markdown",
   "id": "2ad830d2",
   "metadata": {},
   "source": [
    "# Building Table Extractor using Python"
   ]
  },
  {
   "cell_type": "code",
   "execution_count": 6,
   "id": "aeaedd91",
   "metadata": {},
   "outputs": [],
   "source": [
    "# installing camelot-py should be done from terminal ONLY using the next 2 lines of code\n",
    "#pip install \"camelot-py[base]\"\n",
    "# pip3 install camelot-py"
   ]
  },
  {
   "cell_type": "code",
   "execution_count": 2,
   "id": "c9085a27",
   "metadata": {},
   "outputs": [],
   "source": [
    "# importing packages\n",
    "import camelot as cm\n",
    "import seaborn as sns"
   ]
  },
  {
   "cell_type": "code",
   "execution_count": 5,
   "id": "362ef4c3",
   "metadata": {},
   "outputs": [],
   "source": [
    "# input_pdf = cm.read_pdf(\"your link here\") # use this for pdfs from online sources"
   ]
  },
  {
   "cell_type": "code",
   "execution_count": 6,
   "id": "187699c7",
   "metadata": {},
   "outputs": [
    {
     "data": {
      "text/plain": [
       "('stream', 'lattice')"
      ]
     },
     "execution_count": 6,
     "metadata": {},
     "output_type": "execute_result"
    }
   ],
   "source": [
    "\"stream\", \"lattice\""
   ]
  },
  {
   "cell_type": "code",
   "execution_count": 7,
   "id": "4369f444",
   "metadata": {},
   "outputs": [],
   "source": [
    "input_pdf = cm.read_pdf(\"your path here\") # for local pdfs"
   ]
  },
  {
   "cell_type": "code",
   "execution_count": null,
   "id": "df821ad8",
   "metadata": {},
   "outputs": [],
   "source": [
    "input_pdf "
   ]
  }
 ],
 "metadata": {
  "kernelspec": {
   "display_name": "Python 3",
   "language": "python",
   "name": "python3"
  },
  "language_info": {
   "codemirror_mode": {
    "name": "ipython",
    "version": 3
   },
   "file_extension": ".py",
   "mimetype": "text/x-python",
   "name": "python",
   "nbconvert_exporter": "python",
   "pygments_lexer": "ipython3",
   "version": "3.8.10"
  }
 },
 "nbformat": 4,
 "nbformat_minor": 5
}
