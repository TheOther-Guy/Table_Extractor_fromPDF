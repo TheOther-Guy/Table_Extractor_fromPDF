{
 "cells": [
  {
   "cell_type": "markdown",
   "id": "81fc21d3",
   "metadata": {},
   "source": [
    "# Building Table Extractor using Python"
   ]
  },
  {
   "cell_type": "code",
   "execution_count": 6,
   "id": "416bb884",
   "metadata": {},
   "outputs": [],
   "source": [
    "# installing camelot-py should be done from terminal ONLY using the next 2 lines of code\n",
    "#pip install \"camelot-py[base]\"\n",
    "# pip3 install camelot-py"
   ]
  },
  {
   "cell_type": "code",
   "execution_count": 2,
   "id": "113c7f4b",
   "metadata": {},
   "outputs": [],
   "source": [
    "# importing packages\n",
    "import camelot\n",
    "import seaborn as sns"
   ]
  },
  {
   "cell_type": "code",
   "execution_count": null,
   "id": "0c88bf13",
   "metadata": {},
   "outputs": [],
   "source": []
  }
 ],
 "metadata": {
  "kernelspec": {
   "display_name": "Python 3",
   "language": "python",
   "name": "python3"
  },
  "language_info": {
   "codemirror_mode": {
    "name": "ipython",
    "version": 3
   },
   "file_extension": ".py",
   "mimetype": "text/x-python",
   "name": "python",
   "nbconvert_exporter": "python",
   "pygments_lexer": "ipython3",
   "version": "3.8.10"
  }
 },
 "nbformat": 4,
 "nbformat_minor": 5
}
